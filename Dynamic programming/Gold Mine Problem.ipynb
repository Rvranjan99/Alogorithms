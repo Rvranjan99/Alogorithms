{
 "cells": [
  {
   "cell_type": "markdown",
   "metadata": {},
   "source": [
    "Given a gold mine of n*m dimensions. Each field in this mine contains a positive integer which is the amount of gold in tons. Initially the miner is at first column but can be at any row. He can move only (right->,right up /,right down\\) that is from a given cell, the miner can move to the cell diagonally up towards the right or right or diagonally down towards the right. Find out maximum amount of gold he can collect."
   ]
  },
  {
   "cell_type": "code",
   "execution_count": 8,
   "metadata": {},
   "outputs": [],
   "source": [
    "def maxGold(gold,m,n):\n",
    "    gold_table=[[0 for i in range(m)] for j in range(n)]\n",
    "    \n",
    "    \n",
    "    for col in range(n-1,-1,-1):\n",
    "        for row in range(m):\n",
    "            #right with corner case\n",
    "            if col==n-1:\n",
    "                right=0\n",
    "            else:\n",
    "                right=gold_table[row][col+1]\n",
    "            #right up with corner case\n",
    "            if row==0 or col==n-1:\n",
    "                right_up=0\n",
    "            else:\n",
    "                right_up=gold_table[row-1][col+1]\n",
    "            #right down with corner case\n",
    "            if row==m-1 or col==n-1:\n",
    "                right_down=0\n",
    "            else:\n",
    "                right_down=gold_table[row+1][col+1]\n",
    "            #updating the table with max(all possible move)\n",
    "            gold_table[row][col]=gold[row][col]+max(right,right_up,right_down)\n",
    "            \n",
    "    #since initially miner can start from col0 and any row, hence we choose max\n",
    "    ans=gold_table[0][0]\n",
    "    for i in range(1,m):\n",
    "        ans=max(ans,gold_table[i][0])\n",
    "    return ans"
   ]
  },
  {
   "cell_type": "code",
   "execution_count": 9,
   "metadata": {},
   "outputs": [
    {
     "name": "stdout",
     "output_type": "stream",
     "text": [
      "[[13, 12, 6, 5], [14, 11, 9, 1], [16, 9, 5, 3], [11, 11, 4, 2]]\n",
      "16\n"
     ]
    }
   ],
   "source": [
    "gold = [[1, 3, 1, 5], \n",
    "    [2, 2, 4, 1], \n",
    "    [5, 0, 2, 3], \n",
    "    [0, 6, 1, 2]]\n",
    "m=4\n",
    "n=4\n",
    "print(maxGold(gold,m,n))"
   ]
  },
  {
   "cell_type": "code",
   "execution_count": null,
   "metadata": {},
   "outputs": [],
   "source": []
  }
 ],
 "metadata": {
  "kernelspec": {
   "display_name": "Python 3",
   "language": "python",
   "name": "python3"
  },
  "language_info": {
   "codemirror_mode": {
    "name": "ipython",
    "version": 3
   },
   "file_extension": ".py",
   "mimetype": "text/x-python",
   "name": "python",
   "nbconvert_exporter": "python",
   "pygments_lexer": "ipython3",
   "version": "3.7.0"
  }
 },
 "nbformat": 4,
 "nbformat_minor": 2
}
